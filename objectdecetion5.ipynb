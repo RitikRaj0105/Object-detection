{
 "cells": [
  {
   "cell_type": "code",
   "execution_count": 4,
   "id": "871e8d85-6ff0-492d-bdec-6c791399b8ac",
   "metadata": {},
   "outputs": [],
   "source": [
    "import cv2\n",
    "from ultralytics import YOLO\n"
   ]
  },
  {
   "cell_type": "code",
   "execution_count": 5,
   "id": "d3cde82e-7bdb-4149-a784-f1efdbec0cef",
   "metadata": {},
   "outputs": [],
   "source": [
    "def load_model(model_path):\n",
    "    \"\"\"\n",
    "    Load the YOLOv8 model from the specified path.\n",
    "    :param model_path: Path to the YOLOv8 model file.\n",
    "    :return: Loaded YOLO model.\n",
    "    \"\"\"\n",
    "    return YOLO(model_path)"
   ]
  },
  {
   "cell_type": "code",
   "execution_count": 6,
   "id": "8c8deba6-4853-4c0c-9663-2b37560bf375",
   "metadata": {},
   "outputs": [],
   "source": [
    "def setup_camera(camera_index=0):\n",
    "    \"\"\"\n",
    "    Initialize and return a video capture object for the specified camera index.\n",
    "    :param camera_index: Index of the camera to use.\n",
    "    :return: Video capture object.\n",
    "    \"\"\"\n",
    "    cap = cv2.VideoCapture(camera_index)\n",
    "    if not cap.isOpened():\n",
    "        raise Exception(\"Error: Could not access the webcam.\")\n",
    "    return cap"
   ]
  },
  {
   "cell_type": "code",
   "execution_count": 7,
   "id": "1cf80a6f-6522-450f-9353-9afa5ec87fb4",
   "metadata": {},
   "outputs": [],
   "source": [
    "def setup_fullscreen_window(window_name):\n",
    "    \"\"\"\n",
    "    Set up a full-screen OpenCV window with the given name.\n",
    "    :param window_name: Name of the OpenCV window.\n",
    "    \"\"\"\n",
    "    cv2.namedWindow(window_name, cv2.WND_PROP_FULLSCREEN)\n",
    "    cv2.setWindowProperty(window_name, cv2.WND_PROP_FULLSCREEN, cv2.WINDOW_FULLSCREEN)\n"
   ]
  },
  {
   "cell_type": "code",
   "execution_count": 8,
   "id": "7a716df5-e64f-4977-9ac8-2404806616b3",
   "metadata": {},
   "outputs": [],
   "source": [
    "def process_frame(model, frame):\n",
    "    \"\"\"\n",
    "    Perform object detection on a single frame and return the annotated frame.\n",
    "    :param model: YOLOv8 model object.\n",
    "    :param frame: Frame to process.\n",
    "    :return: Annotated frame.\n",
    "    \"\"\"\n",
    "    results = model.predict(source=frame, save=False, verbose=False)\n",
    "    return results[0].plot()"
   ]
  },
  {
   "cell_type": "code",
   "execution_count": 9,
   "id": "e0ce8d1a-a269-4d00-980d-b6d127656b15",
   "metadata": {},
   "outputs": [],
   "source": [
    "def main():\n",
    "    \"\"\"\n",
    "    Main function to run YOLOv8 object detection in full-screen mode.\n",
    "    \"\"\"\n",
    "    model_path = \"yolov8n.pt\"  # Replace with your YOLOv8 model path\n",
    "    window_name = \"YOLOv8 Object Detection\"\n",
    "\n",
    "    try:\n",
    "        # Load model and set up camera\n",
    "        model = load_model(model_path)\n",
    "        cap = setup_camera()\n",
    "\n",
    "        # Set up full-screen window\n",
    "        setup_fullscreen_window(window_name)\n",
    "\n",
    "        while True:\n",
    "            # Capture frame-by-frame\n",
    "            ret, frame = cap.read()\n",
    "            if not ret:\n",
    "                print(\"Error: Failed to read frame from webcam.\")\n",
    "                break\n",
    "\n",
    "            # Process the frame\n",
    "            annotated_frame = process_frame(model, frame)\n",
    "\n",
    "            # Display the annotated frame\n",
    "            cv2.imshow(window_name, annotated_frame)\n",
    "\n",
    "            # Exit the loop if 'q' is pressed\n",
    "            if cv2.waitKey(1) & 0xFF == ord('q'):\n",
    "                break\n",
    "\n",
    "    except Exception as e:\n",
    "        print(f\"Error: {e}\")\n",
    "\n",
    "    finally:\n",
    "        # Release resources\n",
    "        if 'cap' in locals():\n",
    "            cap.release()\n",
    "        cv2.destroyAllWindows()\n"
   ]
  },
  {
   "cell_type": "code",
   "execution_count": 10,
   "id": "c0dbd3f1-fb0c-4bcf-851b-3a92aa022ab8",
   "metadata": {},
   "outputs": [],
   "source": [
    "if __name__ == \"__main__\":\n",
    "    main()"
   ]
  }
 ],
 "metadata": {
  "kernelspec": {
   "display_name": "Python 3 (ipykernel)",
   "language": "python",
   "name": "python3"
  },
  "language_info": {
   "codemirror_mode": {
    "name": "ipython",
    "version": 3
   },
   "file_extension": ".py",
   "mimetype": "text/x-python",
   "name": "python",
   "nbconvert_exporter": "python",
   "pygments_lexer": "ipython3",
   "version": "3.12.2"
  }
 },
 "nbformat": 4,
 "nbformat_minor": 5
}
